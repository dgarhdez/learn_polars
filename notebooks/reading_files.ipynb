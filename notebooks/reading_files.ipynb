{
 "cells": [
  {
   "cell_type": "markdown",
   "metadata": {},
   "source": [
    "# Reading and writing files with Polars\n",
    "\n",
    "In this section, we are going to learn how to read and write different files with Polars. We will focus on the following:\n",
    "\n",
    "- Parquet files\n",
    "- CSV files\n",
    "- JSON files"
   ]
  },
  {
   "cell_type": "markdown",
   "metadata": {},
   "source": [
    "## Parquet files\n",
    "\n",
    "Apache Parquet is a column-oriented data file format created to provide efficient data storage and retrieval. More in the [Parquet documentation](https://parquet.apache.org/).\n",
    "\n",
    "Using parquet files is a good option when you have large datasets and you want to read and write them quickly.\n",
    "\n",
    "### pd vs pl\n",
    "\n",
    "Pandas _can_ read parquet files, but it's not done in the most efficient way: the data in the file is read into memory and then converted to a pandas DataFrame. This is fine for small files, but it's not ideal for large files. \n",
    "\n",
    "Polars, on the other hand, read parquet files directly into Arrow memory, keeping it there. This is much faster and more efficient."
   ]
  }
 ],
 "metadata": {
  "language_info": {
   "name": "python"
  },
  "orig_nbformat": 4
 },
 "nbformat": 4,
 "nbformat_minor": 2
}
