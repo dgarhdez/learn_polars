{
 "cells": [
  {
   "cell_type": "markdown",
   "metadata": {},
   "source": [
    "# Intro to Polars\n",
    "\n",
    "Polars is a _lightning_ fast DataFrame library written in Rust that uses Apache Arrow for its columnar and table-like containers.\n",
    "\n",
    "## Apache Arrow\n",
    "\n",
    "From the [Apache Arrow documentation](https://arrow.apache.org/overview/):\n",
    "\n",
    "Apache Arrow defines a language-independent columnar memory format for flat and hierarchical data, organized for efficient analytic operations on modern hardware like CPUs and GPUs. The Arrow memory format also supports zero-copy reads for lightning-fast data access without serialization overhead\n",
    "\n",
    "This Apache Arrow memory is used by Polars to store data in a columnar format, which is very efficient for data processing.\n",
    "\n",
    "## Philosophy\n",
    "\n",
    "From the [Polars documentation](https://pola-rs.github.io/polars-book/user-guide/):\n",
    "\n",
    "The goal of Polars is to provide a lightning fast DataFrame library that:\n",
    "* Utilizes all available cores on your machine.\n",
    "* Optimizes queries to reduce unneeded work/memory allocations.\n",
    "* Handles datasets much larger than your available RAM.\n",
    "* Has an API that is consistent and predictable.\n",
    "* Has a strict schema (data-types should be known before running the query).\n",
    "* Polars is written in Rust which gives it C/C++ performance and allows it to fully control performance critical parts in a query engine.\n",
    "\n",
    "As such Polars goes to great lengths to:\n",
    "* Reduce redundant copies.\n",
    "* Traverse memory cache efficiently.\n",
    "* Minimize contention in parallelism.\n",
    "* Process data in chunks.\n",
    "* Reuse memory allocations.\n",
    "\n",
    "## Installing and using Polars\n",
    "\n",
    "Polars is available on [PyPI](https://pypi.org/project/polars/) and can be installed with the following command:\n",
    "\n",
    "```bash\n",
    "pip install polars\n",
    "```\n",
    "\n",
    "An then, just import it in your project:\n",
    "\n",
    "```python\n",
    "import polars as pl\n",
    "```\n"
   ]
  },
  {
   "cell_type": "code",
   "execution_count": 1,
   "metadata": {},
   "outputs": [
    {
     "name": "stdout",
     "output_type": "stream",
     "text": [
      "Collecting polars\n",
      "  Obtaining dependency information for polars from https://files.pythonhosted.org/packages/b0/02/e4a34c662d05b402df99e7bfa90dddb69e87b027e8aab86dec7247b2af0e/polars-0.18.13-cp38-abi3-macosx_11_0_arm64.whl.metadata\n",
      "  Downloading polars-0.18.13-cp38-abi3-macosx_11_0_arm64.whl.metadata (14 kB)\n",
      "Downloading polars-0.18.13-cp38-abi3-macosx_11_0_arm64.whl (16.6 MB)\n",
      "\u001b[2K   \u001b[90m━━━━━━━━━━━━━━━━━━━━━━━━━━━━━━━━━━━━━━━━\u001b[0m \u001b[32m16.6/16.6 MB\u001b[0m \u001b[31m8.0 MB/s\u001b[0m eta \u001b[36m0:00:00\u001b[0m00:01\u001b[0m00:01\u001b[0m\n",
      "\u001b[?25hInstalling collected packages: polars\n",
      "Successfully installed polars-0.18.13\n"
     ]
    }
   ],
   "source": [
    "!pip install polars"
   ]
  },
  {
   "cell_type": "code",
   "execution_count": 2,
   "metadata": {},
   "outputs": [],
   "source": [
    "import polars as pl"
   ]
  },
  {
   "cell_type": "markdown",
   "metadata": {},
   "source": [
    "## Polars vs Pandas\n",
    "\n",
    "That's the purpose of this repo: learning to use Polars based on operations known from Pandas, and comparing the syntax of both libraries, sometimes vs SQL.\n",
    "\n",
    "The main difference is that **Polars can natively parallelize the processing of operations on multiple cores**, whereas Pandas couldn't do that until other tools built on top of Pandas (like Dask) were created.\n",
    "\n",
    "Another difference is that **Polars includes a lazy API**. This means that the operations are not executed until the result is actually needed. When working with big datasets, we might not want to perform the operation until it's really needed, so that we can save time and resources with this lazy approach.\n",
    "\n",
    "From now on, whenever there is a comparison between pandas and polars, I will use the following header: \n",
    "\n",
    "> ### pd vs pl\n"
   ]
  }
 ],
 "metadata": {
  "kernelspec": {
   "display_name": "pyex",
   "language": "python",
   "name": "python3"
  },
  "language_info": {
   "codemirror_mode": {
    "name": "ipython",
    "version": 3
   },
   "file_extension": ".py",
   "mimetype": "text/x-python",
   "name": "python",
   "nbconvert_exporter": "python",
   "pygments_lexer": "ipython3",
   "version": "3.10.12"
  },
  "orig_nbformat": 4
 },
 "nbformat": 4,
 "nbformat_minor": 2
}
